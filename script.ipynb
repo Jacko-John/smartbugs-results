{
 "cells": [
  {
   "cell_type": "code",
   "execution_count": 1,
   "metadata": {},
   "outputs": [
    {
     "name": "stdout",
     "output_type": "stream",
     "text": [
      "['smartbugs-curated/dataset/reentrancy', 'smartbugs-curated/dataset/short_addresses', 'smartbugs-curated/dataset/front_running', 'smartbugs-curated/dataset/time_manipulation', 'smartbugs-curated/dataset/denial_of_service', 'smartbugs-curated/dataset/other', 'smartbugs-curated/dataset/unchecked_low_level_calls', 'smartbugs-curated/dataset/bad_randomness', 'smartbugs-curated/dataset/arithmetic', 'smartbugs-curated/dataset/access_control']\n"
     ]
    }
   ],
   "source": [
    "import pandas as pd\n",
    "import numpy as np\n",
    "import os\n",
    "\n",
    "df = pd.read_csv('results.csv')\n",
    "name = df['filename'].unique().tolist()\n",
    "alist = [os.path.dirname(it) for it in name]\n",
    "aset = set(alist)\n",
    "uni = list(aset)\n",
    "print(uni)"
   ]
  },
  {
   "cell_type": "code",
   "execution_count": 23,
   "metadata": {},
   "outputs": [
    {
     "name": "stdout",
     "output_type": "stream",
     "text": [
      "                                              filename  correct  error  total\n",
      "284  smartbugs-curated/dataset/access_control/arbit...      0.0    0.0    0.0\n",
      "285  smartbugs-curated/dataset/access_control/Fibon...      0.0    0.0    0.0\n",
      "286  smartbugs-curated/dataset/access_control/incor...      0.0    0.0    0.0\n",
      "287  smartbugs-curated/dataset/access_control/incor...      0.0    0.0    0.0\n",
      "288  smartbugs-curated/dataset/access_control/incor...      0.0    0.0    0.0\n",
      "..                                                 ...      ...    ...    ...\n",
      "421  smartbugs-curated/dataset/unchecked_low_level_...      0.0    0.0    0.0\n",
      "422  smartbugs-curated/dataset/unchecked_low_level_...      0.0    0.0    0.0\n",
      "423  smartbugs-curated/dataset/unchecked_low_level_...      0.0    0.0    0.0\n",
      "424  smartbugs-curated/dataset/unchecked_low_level_...      0.0    0.0    0.0\n",
      "425  smartbugs-curated/dataset/unchecked_low_level_...      0.0    0.0    0.0\n",
      "\n",
      "[142 rows x 4 columns]\n"
     ]
    }
   ],
   "source": [
    "sfuzz = df[df[\"toolid\"] == \"smartcheck\"][['filename', 'correct', 'error', 'total']]\n",
    "sfuzz = sfuzz.fillna(0)\n",
    "# sfuzz_focus = df\n",
    "print(sfuzz)"
   ]
  },
  {
   "cell_type": "code",
   "execution_count": 24,
   "metadata": {},
   "outputs": [
    {
     "name": "stdout",
     "output_type": "stream",
     "text": [
      "合约数： 142 \t正确个数： 27.0 \t错误个数： 15.0 \t总检出： 42.0 \t回报率： 19.014084507042252 % \t差准率： 64.28571428571429 %\n"
     ]
    }
   ],
   "source": [
    "collect = sfuzz.to_numpy()\n",
    "# c = [0]*10\n",
    "# e = [0]*10\n",
    "# t = [0]*10\n",
    "# cnt = [0]*10\n",
    "c = 0\n",
    "e = 0\n",
    "t = 0\n",
    "cnt = 0\n",
    "# for it in collect:\n",
    "#     for i in range(10):\n",
    "#         if it[0].find(uni[i]) != -1:\n",
    "#             c[i] += it[1]\n",
    "#             e[i] += it[2]\n",
    "#             t[i] += it[3]\n",
    "#             cnt[i] += 1\n",
    "#             break\n",
    "\n",
    "for it in collect:\n",
    "    c += it[1]\n",
    "    e += it[2]\n",
    "    t += it[3]\n",
    "    cnt += 1\n",
    "\n",
    "# for i in range(10):\n",
    "#     tmp = c[i]/t[i]*100 if t[i]!= 0 else -1\n",
    "#     print(\"类型：\",uni[i], \"\\t合约数：\", cnt[i], \"\\t正确个数：\", c[i], \"\\t错误个数：\", e[i], \"\\t总检出：\",t[i], \"\\t回报率：\", c[i]/cnt[i]*100, \"%\", \"\\t差准率：\", tmp, \"%\")\n",
    "\n",
    "tmp = c/t*100 if t != 0 else -1\n",
    "print(\"合约数：\", cnt, \"\\t正确个数：\", c, \"\\t错误个数：\", e, \"\\t总检出：\",t, \"\\t回报率：\", c/cnt*100, \"%\", \"\\t差准率：\", tmp, \"%\")\n",
    "\n"
   ]
  }
 ],
 "metadata": {
  "kernelspec": {
   "display_name": "base",
   "language": "python",
   "name": "python3"
  },
  "language_info": {
   "codemirror_mode": {
    "name": "ipython",
    "version": 3
   },
   "file_extension": ".py",
   "mimetype": "text/x-python",
   "name": "python",
   "nbconvert_exporter": "python",
   "pygments_lexer": "ipython3",
   "version": "3.12.4"
  }
 },
 "nbformat": 4,
 "nbformat_minor": 2
}
